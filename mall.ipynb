{
 "cells": [
  {
   "cell_type": "code",
   "execution_count": 1,
   "id": "1efce9bc-e56e-49fb-9217-f70cee4c76dc",
   "metadata": {},
   "outputs": [],
   "source": [
    "import pandas as pd\n",
    "import seaborn as sns\n",
    "import matplotlib.pyplot as plt\n",
    "from sklearn.cluster import KMeans\n",
    "import warnings\n",
    "warnings.filterwarnings('ignore')"
   ]
  },
  {
   "cell_type": "code",
   "execution_count": 3,
   "id": "0d677865-61dd-4d5f-a42a-7c121ce4d46d",
   "metadata": {},
   "outputs": [],
   "source": [
    "df=pd.read_csv('Mall_Customers.csv')"
   ]
  },
  {
   "cell_type": "code",
   "execution_count": null,
   "id": "ea3355db-6c7a-40e1-8335-8ca708b9fed4",
   "metadata": {},
   "outputs": [],
   "source": [
    "df.head()"
   ]
  },
  {
   "cell_type": "code",
   "execution_count": null,
   "id": "97cbc035-65c1-4d55-b910-478ac1d18c53",
   "metadata": {},
   "outputs": [],
   "source": [
    "#univariate Analysis"
   ]
  },
  {
   "cell_type": "code",
   "execution_count": null,
   "id": "592c6310-a155-4091-bbce-a89fbe5d1b75",
   "metadata": {},
   "outputs": [],
   "source": [
    "df.describe()"
   ]
  },
  {
   "cell_type": "code",
   "execution_count": null,
   "id": "cac630f9-4a61-45c2-944c-808405a19cfb",
   "metadata": {},
   "outputs": [],
   "source": [
    "sns.distplot(df['Annual Income (k$)']);"
   ]
  },
  {
   "cell_type": "code",
   "execution_count": null,
   "id": "6b90aa16-04da-466d-812e-6f01a17aa2a2",
   "metadata": {},
   "outputs": [],
   "source": [
    "df.columns"
   ]
  },
  {
   "cell_type": "code",
   "execution_count": null,
   "id": "d411525a-08fc-4eae-9a7f-868f2cc0c9df",
   "metadata": {},
   "outputs": [],
   "source": [
    "columns=['Age', 'Annual Income (k$)','Spending Score (1-100)']\n",
    "for i in columns:\n",
    "    plt.figure()\n",
    "    sns.distplot(df[i])"
   ]
  },
  {
   "cell_type": "code",
   "execution_count": null,
   "id": "3d9fd205-bc2f-4c4b-b353-b457a67cfb45",
   "metadata": {},
   "outputs": [],
   "source": [
    "sns.kdeplot(data=df,x='Annual Income (k$)',shade=True,hue='Gender');"
   ]
  },
  {
   "cell_type": "code",
   "execution_count": null,
   "id": "defd0b11-93a1-4a06-9eb4-b00141c846bb",
   "metadata": {},
   "outputs": [],
   "source": [
    "columns=['Age', 'Annual Income (k$)','Spending Score (1-100)']\n",
    "for i in columns:\n",
    "    plt.figure()\n",
    "    sns.kdeplot(data=df,x=i,hue=df['Gender'],shade=True)"
   ]
  },
  {
   "cell_type": "code",
   "execution_count": null,
   "id": "68da043e-d4b4-4493-9f5b-39216fed3e5a",
   "metadata": {},
   "outputs": [],
   "source": [
    "columns=['Age', 'Annual Income (k$)','Spending Score (1-100)']\n",
    "for i in columns:\n",
    "    plt.figure()\n",
    "    sns.kdeplot(data=df,x=i,shade=True,hue='Gender');"
   ]
  },
  {
   "cell_type": "code",
   "execution_count": null,
   "id": "f2528a9d-4823-4b58-a6a7-2a8dfd92ff12",
   "metadata": {},
   "outputs": [],
   "source": [
    "columns=['Age', 'Annual Income (k$)','Spending Score (1-100)']\n",
    "for i in columns:\n",
    "    plt.figure()\n",
    "    sns.boxplot(data=df,x='Gender',y=df[i]);"
   ]
  },
  {
   "cell_type": "code",
   "execution_count": null,
   "id": "04273811-fe9e-4f61-bad7-887d29a2f064",
   "metadata": {},
   "outputs": [],
   "source": [
    "df['Gender'].value_counts(normalize=True)"
   ]
  },
  {
   "cell_type": "markdown",
   "id": "5af0804d-6ae3-4d49-a47f-d69a9634a42b",
   "metadata": {},
   "source": [
    "#Bivariate Analysis"
   ]
  },
  {
   "cell_type": "code",
   "execution_count": null,
   "id": "01d648ab-435c-43c3-aed8-c8191e0375bf",
   "metadata": {},
   "outputs": [],
   "source": [
    "sns.scatterplot(data=df,x='Annual Income (k$)',y='Spending Score (1-100)')"
   ]
  },
  {
   "cell_type": "code",
   "execution_count": null,
   "id": "5e3788df-f8d4-42be-aadd-2d0d72d8fcdf",
   "metadata": {},
   "outputs": [],
   "source": [
    "#df=df.drop('CustomerID',axis=1)\n",
    "sns.pairplot(df,hue='Gender')"
   ]
  },
  {
   "cell_type": "code",
   "execution_count": null,
   "id": "9e5346c2-bd17-48c8-9c3f-e045547440a1",
   "metadata": {},
   "outputs": [],
   "source": [
    "df.groupby('Gender')[['Age', 'Annual Income (k$)',\n",
    "       'Spending Score (1-100)']].mean()"
   ]
  },
  {
   "cell_type": "code",
   "execution_count": null,
   "id": "7ad2aafb-ee40-4a3d-a591-c98584cdd8a2",
   "metadata": {},
   "outputs": [],
   "source": [
    "tf=df.drop('CustomerID',axis=1)\n",
    "a=tf.corr(numeric_only=True)\n",
    "a"
   ]
  },
  {
   "cell_type": "code",
   "execution_count": null,
   "id": "9001fc63-387e-4e08-bc6d-030d3b177950",
   "metadata": {},
   "outputs": [],
   "source": [
    "sns.heatmap(a,annot=False,cmap='coolwarm')"
   ]
  },
  {
   "cell_type": "raw",
   "id": "451c1aab-91dc-4bff-ad57-73320da0723a",
   "metadata": {},
   "source": [
    "#CLUSTERING--UNIVARIATE,BIVARITAE,MULTIVARIATE"
   ]
  },
  {
   "cell_type": "code",
   "execution_count": null,
   "id": "be92773d-4a94-48de-a67a-e6d861e073ff",
   "metadata": {},
   "outputs": [],
   "source": [
    "clustering1=KMeans(n_clusters=3)"
   ]
  },
  {
   "cell_type": "code",
   "execution_count": null,
   "id": "eb1f867b-0d2a-40c6-a9e2-3777a79da6db",
   "metadata": {},
   "outputs": [],
   "source": [
    "clustering1.fit(df[['Annual Income (k$)']])"
   ]
  },
  {
   "cell_type": "code",
   "execution_count": null,
   "id": "16ca4ef0-7566-4945-b169-64ca0c155a40",
   "metadata": {},
   "outputs": [],
   "source": [
    "clustering1.labels_"
   ]
  },
  {
   "cell_type": "code",
   "execution_count": null,
   "id": "01d44435-66a2-4acd-b27b-5075bf1dbcdd",
   "metadata": {},
   "outputs": [],
   "source": [
    "df['Income Cluster']=clustering1.labels_\n",
    "df.head()"
   ]
  },
  {
   "cell_type": "code",
   "execution_count": null,
   "id": "dfff829d-8320-405d-8c31-8fd89c3718a4",
   "metadata": {},
   "outputs": [],
   "source": [
    "df['Income Cluster'].value_counts()"
   ]
  },
  {
   "cell_type": "code",
   "execution_count": null,
   "id": "0bac91a9-3e9a-4f64-aa22-3dec8797cbe9",
   "metadata": {},
   "outputs": [],
   "source": [
    "clustering1.inertia_"
   ]
  },
  {
   "cell_type": "code",
   "execution_count": null,
   "id": "79455a00-084c-4e70-a7e6-c5d8811d2a9a",
   "metadata": {},
   "outputs": [],
   "source": [
    "inertia_scores=[]\n",
    "for i in range(1,11):\n",
    "    kmeans=KMeans(n_clusters=i)\n",
    "    kmeans.fit(df[['Annual Income (k$)']])\n",
    "    inertia_scores.append(kmeans.inertia_)"
   ]
  },
  {
   "cell_type": "code",
   "execution_count": null,
   "id": "65aa46d4-8461-4c84-a778-a9e48f4a1e6b",
   "metadata": {},
   "outputs": [],
   "source": [
    "inertia_scores"
   ]
  },
  {
   "cell_type": "code",
   "execution_count": null,
   "id": "2a9351bb-1ddd-459a-a86a-5f1dffd81b63",
   "metadata": {},
   "outputs": [],
   "source": [
    "plt.plot(range(1,11),inertia_scores)"
   ]
  },
  {
   "cell_type": "code",
   "execution_count": null,
   "id": "07752dbc-59aa-4282-989a-5d7b858ad767",
   "metadata": {},
   "outputs": [],
   "source": [
    "df.columns"
   ]
  },
  {
   "cell_type": "code",
   "execution_count": null,
   "id": "6c7c74b2-d2f9-460f-be6f-a53b5dba4105",
   "metadata": {},
   "outputs": [],
   "source": [
    "df.groupby('Income Cluster')[['Age', 'Annual Income (k$)',\n",
    "       'Spending Score (1-100)']].mean() "
   ]
  },
  {
   "cell_type": "code",
   "execution_count": null,
   "id": "7614b91f-f0c9-4ff4-8656-6e8eeabf4bf5",
   "metadata": {},
   "outputs": [],
   "source": [
    "#Bivariate Clustering"
   ]
  },
  {
   "cell_type": "code",
   "execution_count": null,
   "id": "8491e54e-8faa-462f-a58d-100ac635f175",
   "metadata": {},
   "outputs": [],
   "source": [
    "clustering2=KMeans(n_clusters=5)\n",
    "clustering2.fit(df[['Annual Income (k$)','Spending Score (1-100)']])\n",
    "df['Spending and Income Cluster']=clustering2.labels_\n",
    "df.head()"
   ]
  },
  {
   "cell_type": "code",
   "execution_count": null,
   "id": "5cf55534-cf74-4dd3-89bd-d1e8b92f02c3",
   "metadata": {},
   "outputs": [],
   "source": [
    "inertia_scores2=[]\n",
    "for i in range(1,11):\n",
    "    kmeans2=KMeans(n_clusters=i)\n",
    "    kmeans2.fit(df[['Annual Income (k$)','Spending Score (1-100)']])\n",
    "    inertia_scores2.append(kmeans2.inertia_)\n",
    "plt.plot(range(1,11),inertia_scores2)    "
   ]
  },
  {
   "cell_type": "code",
   "execution_count": null,
   "id": "8d2abe0f-3390-4a89-bf8e-cdfe4677bef3",
   "metadata": {},
   "outputs": [],
   "source": [
    "centers=pd.DataFrame(clustering2.cluster_centers_)\n",
    "centers.columns=['x','y']"
   ]
  },
  {
   "cell_type": "code",
   "execution_count": null,
   "id": "8cd42fc4-e438-45bb-80ea-cfd07a3324dd",
   "metadata": {},
   "outputs": [],
   "source": [
    "plt.figure(figsize=(10,8))\n",
    "plt.scatter(x=centers['x'],y=centers['y'],s=100,c='black',marker='*')\n",
    "sns.scatterplot(data=df,x='Annual Income (k$)',y='Spending Score (1-100)',hue='Spending and Income Cluster',palette='tab10')\n",
    "plt.savefig('clustering_bivariate.png')"
   ]
  },
  {
   "cell_type": "code",
   "execution_count": null,
   "id": "80b9d721-084a-44b5-8f9a-2e6df6a374db",
   "metadata": {},
   "outputs": [],
   "source": [
    "pd.crosstab(df['Spending and Income Cluster'],df['Gender'],normalize='index')"
   ]
  },
  {
   "cell_type": "code",
   "execution_count": null,
   "id": "d1fc69ea-6fe2-4324-a7bd-2ccd31dfa136",
   "metadata": {},
   "outputs": [],
   "source": [
    "df.groupby('Spending and Income Cluster')[['Age', 'Annual Income (k$)',\n",
    "       'Spending Score (1-100)']].mean() "
   ]
  },
  {
   "cell_type": "code",
   "execution_count": null,
   "id": "e7ffd16f-2540-43bc-b2d6-4d55e250642f",
   "metadata": {},
   "outputs": [],
   "source": [
    "#multivariate clustering"
   ]
  },
  {
   "cell_type": "code",
   "execution_count": null,
   "id": "4f5a63c0-8fb8-44ea-a554-0d7c7a2a69a4",
   "metadata": {},
   "outputs": [],
   "source": [
    "from sklearn.preprocessing import StandardScaler"
   ]
  },
  {
   "cell_type": "code",
   "execution_count": null,
   "id": "7ef86cf0-0615-488a-bf70-f8a06c707e8c",
   "metadata": {},
   "outputs": [],
   "source": [
    "scale=StandardScaler()"
   ]
  },
  {
   "cell_type": "code",
   "execution_count": null,
   "id": "758e64a0-89c2-499d-bfc0-4cc80e55f298",
   "metadata": {},
   "outputs": [],
   "source": [
    "df.head()"
   ]
  },
  {
   "cell_type": "code",
   "execution_count": null,
   "id": "3dcbc1b4-91c2-4535-8e1e-23f43814334e",
   "metadata": {},
   "outputs": [],
   "source": [
    "dff=pd.get_dummies(df,drop_first=True)\n",
    "dff.head()"
   ]
  },
  {
   "cell_type": "code",
   "execution_count": null,
   "id": "79a66016-666d-4677-b621-859c54f39e56",
   "metadata": {},
   "outputs": [],
   "source": [
    "dff.columns"
   ]
  },
  {
   "cell_type": "code",
   "execution_count": null,
   "id": "7e19d494-9cfe-42c5-8ea7-5aaec939dd28",
   "metadata": {},
   "outputs": [],
   "source": [
    "dff=dff[['Age', 'Annual Income (k$)', 'Spending Score (1-100)','Income Cluster', 'Spending and Income Cluster', 'Gender_Male']]\n",
    "df.head()"
   ]
  },
  {
   "cell_type": "code",
   "execution_count": null,
   "id": "dcca1f83-5c58-4f85-9bc6-d78e84151d4b",
   "metadata": {},
   "outputs": [],
   "source": [
    "dff=scale.fit_transform(dff)"
   ]
  },
  {
   "cell_type": "code",
   "execution_count": null,
   "id": "2076d3da-bd27-40a3-8011-ef76f20b0cb6",
   "metadata": {},
   "outputs": [],
   "source": [
    "dff=pd.DataFrame(scale.fit_transform(dff))\n",
    "dff.head()"
   ]
  },
  {
   "cell_type": "code",
   "execution_count": null,
   "id": "4566fc33-d329-44d7-ae44-aec1d6a93acc",
   "metadata": {},
   "outputs": [],
   "source": [
    "inertia_scores3=[]\n",
    "for i in range(1,11):\n",
    "    kmeans3=KMeans(n_clusters=i)\n",
    "    kmeans3.fit(dff)\n",
    "    inertia_scores3.append(kmeans3.inertia_)\n",
    "plt.plot(range(1,11),inertia_scores3)    "
   ]
  },
  {
   "cell_type": "code",
   "execution_count": null,
   "id": "6285a4f0-479c-4bfc-97e3-bb68a66a07a0",
   "metadata": {},
   "outputs": [],
   "source": [
    "df"
   ]
  },
  {
   "cell_type": "code",
   "execution_count": null,
   "id": "e066abf7-c191-4b4f-a09e-2a1fdae7395f",
   "metadata": {},
   "outputs": [],
   "source": [
    "df.to_csv('Clustering.csv')"
   ]
  }
 ],
 "metadata": {
  "kernelspec": {
   "display_name": "Python 3 (ipykernel)",
   "language": "python",
   "name": "python3"
  },
  "language_info": {
   "codemirror_mode": {
    "name": "ipython",
    "version": 3
   },
   "file_extension": ".py",
   "mimetype": "text/x-python",
   "name": "python",
   "nbconvert_exporter": "python",
   "pygments_lexer": "ipython3",
   "version": "3.11.4"
  }
 },
 "nbformat": 4,
 "nbformat_minor": 5
}
